{
 "cells": [
  {
   "cell_type": "code",
   "execution_count": 1,
   "id": "2f69be8a",
   "metadata": {},
   "outputs": [],
   "source": [
    "import pandas as pd"
   ]
  },
  {
   "cell_type": "code",
   "execution_count": 2,
   "id": "f45087e3",
   "metadata": {},
   "outputs": [],
   "source": [
    "assays = pd.read_csv(\"31assays_name.csv\")\n",
    "selected_assay_list = list(assays['Assay Name'])\n",
    "selected_assay_list.remove('TOX21_NFkB_BLA_agonist_ratio')\n",
    "# selected_assay_list = ['TOX21_AhR_LUC_Agonist', 'TOX21_Aromatase_Inhibition', 'TOX21_VDR_BLA_agonist_ratio', 'TOX21_VDR_BLA_antagonist_ratio', 'TOX21_AR_BLA_Agonist_ratio', 'TOX21_AR_BLA_Antagonist_ratio', 'TOX21_AR_LUC_MDAKB2_Agonist', 'TOX21_p53_BLA_p1_ratio', 'TOX21_p53_BLA_p2_ratio', 'TOX21_p53_BLA_p3_ratio', 'TOX21_p53_BLA_p4_ratio', 'TOX21_p53_BLA_p5_ratio', 'TOX21_HSE_BLA_agonist_ratio', 'TOX21_ELG1_LUC_Agonist', 'TOX21_ERa_BLA_Agonist_ratio', 'TOX21_ERa_BLA_Antagonist_ratio', 'TOX21_ESRE_BLA_ratio', 'TOX21_FXR_BLA_agonist_ratio', 'TOX21_FXR_BLA_antagonist_ratio', 'TOX21_GR_BLA_Agonist_ratio', 'TOX21_GR_BLA_Antagonist_ratio', 'TOX21_NFkB_BLA_agonist_ratio', 'TOX21_ARE_BLA_agonist_ratio', 'TOX21_TR_LUC_GH3_Agonist', 'TOX21_TR_LUC_GH3_Antagonist', 'TOX21_PPARg_BLA_Agonist_ratio', 'TOX21_PPARd_BLA_agonist_ratio', 'TOX21_PPARd_BLA_antagonist_ratio', 'TOX21_PPARg_BLA_antagonist_ratio']\n",
    "# selected_assay_list2 = ['NVS_ADME_hCYP1A2' , 'NVS_ADME_hCYP2B6' , 'NCCT_TPO_AUR_dn']\n",
    "# selected_assay_list += selected_assay_list2"
   ]
  },
  {
   "cell_type": "code",
   "execution_count": 14,
   "id": "c92694b1",
   "metadata": {},
   "outputs": [],
   "source": [
    "T = pd.DataFrame(columns =['Inside', 'AUC_ROC', 'AUC_PR', 'F1', 'B_A', 'Precision',\n",
    "       'Recall', 'Specificity', 'TP', 'TN', 'FP', 'FN', 'Outside', 'AUC_ROC_o',\n",
    "       'AUC_PR_o', 'F1_o', 'B_A_o', 'Precision_o', 'Recall_o', 'Specificity_o',\n",
    "       'TP_o', 'TN_o', 'FP_o', 'FN_o']\n",
    "                  , index = selected_assay_list)"
   ]
  },
  {
   "cell_type": "code",
   "execution_count": 15,
   "id": "e56a4bb5",
   "metadata": {},
   "outputs": [],
   "source": [
    "for a in selected_assay_list : \n",
    "    result_df = pd.read_csv('./31assays_AD/performance/performance'+a+'.csv').iloc[:,1:]\n",
    "    T.loc[a,:] = result_df.to_numpy().flatten()\n"
   ]
  },
  {
   "cell_type": "code",
   "execution_count": 18,
   "id": "7259b058",
   "metadata": {},
   "outputs": [],
   "source": [
    "T.to_csv(\"inside outside AD performance.csv\")"
   ]
  },
  {
   "cell_type": "code",
   "execution_count": null,
   "id": "1a22653d",
   "metadata": {},
   "outputs": [],
   "source": []
  }
 ],
 "metadata": {
  "kernelspec": {
   "display_name": "Python 3 (ipykernel)",
   "language": "python",
   "name": "python3"
  },
  "language_info": {
   "codemirror_mode": {
    "name": "ipython",
    "version": 3
   },
   "file_extension": ".py",
   "mimetype": "text/x-python",
   "name": "python",
   "nbconvert_exporter": "python",
   "pygments_lexer": "ipython3",
   "version": "3.10.6"
  }
 },
 "nbformat": 4,
 "nbformat_minor": 5
}
