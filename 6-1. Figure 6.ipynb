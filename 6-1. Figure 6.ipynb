{
 "cells": [
  {
   "cell_type": "code",
   "execution_count": 25,
   "id": "fe443d28",
   "metadata": {},
   "outputs": [
    {
     "name": "stdout",
     "output_type": "stream",
     "text": [
      "0.7457 0\n",
      "0.236 0\n",
      "0.2538 0\n",
      "0.7247 1\n",
      "0.8279 1\n",
      "0.7267 1\n"
     ]
    },
    {
     "data": {
      "image/png": "[encoded data removed]",
      "text/plain": [
       "<Figure size 504x360 with 1 Axes>"
      ]
     },
     "metadata": {
      "needs_background": "light"
     },
     "output_type": "display_data"
    }
   ],
   "source": [
    "import matplotlib.pyplot as plt\n",
    "import numpy as np\n",
    "\n",
    "plt.rc('font', size=15) \n",
    "plt.rc('font', weight = 'bold')\n",
    "\n",
    "def main():\n",
    "\t#### 1. bar plot으로 나타낼 데이터 입력\n",
    "\tmodels = ['Class imbalanced (CI) tuned','Data Scarcity (DS) tuned']\n",
    "\txticks = ['AUC_ROC', 'AUC_PR', 'Recall', 'F1']\n",
    "\tdata = {\n",
    "\t\t\t'Class imbalanced (CI) tuned':[0.7457, 0.2360, 0.2538], \n",
    "            'Data Scarcity (DS) tuned' : [0.7247,0.8279,0.7267]\n",
    "           }\n",
    "\t\n",
    "\t#### 2. matplotlib의 figure 및 axis 설정\n",
    "\tfig, ax = plt.subplots(1,1,figsize=(7,5)) # 1x1 figure matrix 생성, 가로(7인치)x세로(5인치) 크기지정\n",
    "\tcolors = ['#F8B400', '#125B50']\n",
    "\twidth = 0.15\n",
    "\t\n",
    "\t#### 3. bar 그리기\n",
    "\tfor i, model in enumerate(models):\n",
    "\t\tpos = compute_pos(xticks, width, i, models)\n",
    "\t\tbar = ax.bar(pos, data[model], width=width*0.95, label=model, color=colors[i])\n",
    "\t\tpresent_height(ax, bar, i )#bar높이 출력\n",
    "\t\n",
    "\t#### 4. x축 세부설정\n",
    "\tax.set_xticks(range(len(xticks)))\n",
    "\tax.set_xticklabels(xticks, fontsize=20)\t\n",
    "\t# ax.set_xlabel('Cancer type', fontsize=14)\n",
    "\t\n",
    "\t#### 5. y축 세부설정\n",
    "\tax.set_ylim([0.5,0.76])\n",
    "\tax.set_yticks([0.0, 0.40, 0.60, 0.65, 0.7,0.75, 0.8,1.0])\n",
    "\tax.yaxis.set_tick_params(labelsize=10)\n",
    "\t# ax.set_ylabel('Prediction Accuracy', fontsize=14)\n",
    "\t\n",
    "\t#### 6. 범례 나타내기\n",
    "\t#ax.legend(loc='upper right', shadow=True, ncol=1, fontsize=13)\n",
    "\t\n",
    "\t#### 7. 보조선(눈금선) 나타내기\n",
    "\tax.set_axisbelow(True)\n",
    "\tax.yaxis.grid(True, color='gray', linestyle='dashed', linewidth=0.5)\n",
    "\t\n",
    "\t#### 8. 그래프 저장하고 출력하기\n",
    "\tplt.tight_layout()\n",
    "\tplt.savefig('T5_validation.png', format='png', dpi=300)\n",
    "\tplt.show()\n",
    "\t\n",
    "def compute_pos(xticks, width, i, models) :\n",
    "  index = np.arange(len(xticks))\n",
    "  n = len(models)\n",
    "  correction = i-0.5*(n-1)\n",
    "  return index + width*correction\n",
    "\n",
    "def present_height(ax, bar, i):\n",
    "\tfor rect in bar:\n",
    "\t\theight = rect.get_height()\n",
    "\t\tprint(height, i)\n",
    "\t\tposx = rect.get_x()+rect.get_width()*0.5\n",
    "\t\tposy = height*0.5\n",
    "\t\tif i % 2 == 1 : \n",
    "\t\t\tax.text(posx, posy, '%.3f' % height, rotation=90, ha='center', va='bottom', color='white')\n",
    "\t\telse : \n",
    "\t\t\tax.text(posx, posy, '%.3f' % height, rotation=90, ha='center', va='bottom')        \n",
    "\n",
    "if __name__=='__main__':\n",
    "\tmain()"
   ]
  },
  {
   "cell_type": "code",
   "execution_count": 26,
   "id": "9520451c",
   "metadata": {},
   "outputs": [
    {
     "name": "stdout",
     "output_type": "stream",
     "text": [
      "0.7615 0\n",
      "0.2389 0\n",
      "0.2861 0\n",
      "0.6602 1\n",
      "0.5817 1\n",
      "0.5847 1\n"
     ]
    },
    {
     "data": {
      "image/png": "[encoded data removed]",
      "text/plain": [
       "<Figure size 504x360 with 1 Axes>"
      ]
     },
     "metadata": {
      "needs_background": "light"
     },
     "output_type": "display_data"
    }
   ],
   "source": [
    "import matplotlib.pyplot as plt\n",
    "import numpy as np\n",
    "\n",
    "plt.rc('font', size=15) \n",
    "plt.rc('font', weight = 'bold')\n",
    "\n",
    "def main():\n",
    "\t#### 1. bar plot으로 나타낼 데이터 입력\n",
    "\tmodels = ['Class imbalanced (CI) tuned', 'Data Scarcity (DS) tuned']\n",
    "\txticks = ['AUC_ROC','AUC_PR', 'Recall', 'F1']\n",
    "\tdata = {\n",
    "\t\t\t'Class imbalanced (CI) tuned':[0.7615, 0.2389, 0.2861], \n",
    "            'Data Scarcity (DS) tuned' : [0.6602,0.5817,0.5847]\n",
    "           }\n",
    "\t\n",
    "\t#### 2. matplotlib의 figure 및 axis 설정\n",
    "\tfig, ax = plt.subplots(1,1,figsize=(7,5)) # 1x1 figure matrix 생성, 가로(7인치)x세로(5인치) 크기지정\n",
    "\tcolors = ['#F8B400', '#125B50']\n",
    "\twidth = 0.15\n",
    "\t\n",
    "\t#### 3. bar 그리기\n",
    "\tfor i, model in enumerate(models):\n",
    "\t\tpos = compute_pos(xticks, width, i, models)\n",
    "\t\tbar = ax.bar(pos, data[model], width=width*0.95, label=model, color=colors[i])\n",
    "\t\tpresent_height(ax, bar,i) # bar높이 출력\n",
    "\t\n",
    "\t#### 4. x축 세부설정\n",
    "\tax.set_xticks(range(len(xticks)))\n",
    "\tax.set_xticklabels(xticks, fontsize=20)\t\n",
    "\t# ax.set_xlabel('Cancer type', fontsize=14)\n",
    "\t\n",
    "\t#### 5. y축 세부설정\n",
    "\tax.set_ylim([0.5,0.76])\n",
    "\tax.set_yticks([0.0, 0.40, 0.60, 0.65, 0.7,0.75, 0.8,1.0])\n",
    "\tax.yaxis.set_tick_params(labelsize=10)\n",
    "\t# ax.set_ylabel('Prediction Accuracy', fontsize=14)\n",
    "\t\n",
    "\t#### 6. 범례 나타내기\n",
    "\t#ax.legend(loc='upper right', shadow=True, ncol=1, fontsize=13)\n",
    "\t\n",
    "\t#### 7. 보조선(눈금선) 나타내기\n",
    "\tax.set_axisbelow(True)\n",
    "\tax.yaxis.grid(True, color='gray', linestyle='dashed', linewidth=0.5)\n",
    "\t\n",
    "\t#### 8. 그래프 저장하고 출력하기\n",
    "\tplt.tight_layout()\n",
    "\tplt.savefig('T5_test.png', format='png', dpi=300)\n",
    "\tplt.show()\n",
    "\t\n",
    "def compute_pos(xticks, width, i, models) :\n",
    "  index = np.arange(len(xticks))\n",
    "  n = len(models)\n",
    "  correction = i-0.5*(n-1)\n",
    "  return index + width*correction\n",
    "\n",
    "def present_height(ax, bar, i):\n",
    "\tfor rect in bar:\n",
    "\t\theight = rect.get_height()\n",
    "\t\tprint(height, i)\n",
    "\t\tposx = rect.get_x()+rect.get_width()*0.5\n",
    "\t\tposy = height*0.5\n",
    "\t\tif i % 2 == 1 : \n",
    "\t\t\tax.text(posx, posy, '%.3f' % height, rotation=90, ha='center', va='bottom', color='white')\n",
    "\t\telse : \n",
    "\t\t\tax.text(posx, posy, '%.3f' % height, rotation=90, ha='center', va='bottom')    \n",
    "\t\t\n",
    "if __name__=='__main__':\n",
    "\tmain()"
   ]
  },
  {
   "cell_type": "code",
   "execution_count": null,
   "id": "de960d0e",
   "metadata": {},
   "outputs": [],
   "source": []
  }
 ],
 "metadata": {
  "kernelspec": {
   "display_name": "Python 3 (ipykernel)",
   "language": "python",
   "name": "python3"
  },
  "language_info": {
   "codemirror_mode": {
    "name": "ipython",
    "version": 3
   },
   "file_extension": ".py",
   "mimetype": "text/x-python",
   "name": "python",
   "nbconvert_exporter": "python",
   "pygments_lexer": "ipython3",
   "version": "3.9.12"
  }
 },
 "nbformat": 4,
 "nbformat_minor": 5
}
