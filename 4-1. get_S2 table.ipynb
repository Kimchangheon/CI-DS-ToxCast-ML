{
 "cells": [
  {
   "cell_type": "code",
   "execution_count": 1,
   "id": "fe92e9cc",
   "metadata": {},
   "outputs": [],
   "source": [
    "selected_assay_list = ['TOX21_AhR_LUC_Agonist', 'TOX21_Aromatase_Inhibition', 'TOX21_VDR_BLA_agonist_ratio', 'TOX21_VDR_BLA_antagonist_ratio', 'TOX21_AR_BLA_Agonist_ratio', 'TOX21_AR_BLA_Antagonist_ratio', 'TOX21_AR_LUC_MDAKB2_Agonist', 'TOX21_p53_BLA_p1_ratio', 'TOX21_p53_BLA_p2_ratio', 'TOX21_p53_BLA_p3_ratio', 'TOX21_p53_BLA_p4_ratio', 'TOX21_p53_BLA_p5_ratio', 'TOX21_HSE_BLA_agonist_ratio', 'TOX21_ELG1_LUC_Agonist', 'TOX21_ERa_BLA_Agonist_ratio', 'TOX21_ERa_BLA_Antagonist_ratio', 'TOX21_ESRE_BLA_ratio', 'TOX21_FXR_BLA_agonist_ratio', 'TOX21_FXR_BLA_antagonist_ratio', 'TOX21_GR_BLA_Agonist_ratio', 'TOX21_GR_BLA_Antagonist_ratio', 'TOX21_NFkB_BLA_agonist_ratio', 'TOX21_ARE_BLA_agonist_ratio', 'TOX21_TR_LUC_GH3_Agonist', 'TOX21_TR_LUC_GH3_Antagonist', 'TOX21_PPARg_BLA_Agonist_ratio', 'TOX21_PPARd_BLA_agonist_ratio', 'TOX21_PPARd_BLA_antagonist_ratio', 'TOX21_PPARg_BLA_antagonist_ratio']\n",
    "selected_assay_list2 = ['NVS_ADME_hCYP1A2' , 'NVS_ADME_hCYP2B6' , 'NCCT_TPO_AUR_dn']"
   ]
  },
  {
   "cell_type": "code",
   "execution_count": 2,
   "id": "ea73e601",
   "metadata": {},
   "outputs": [],
   "source": [
    "# pd.read_csv(\"assay_list.csv\", index_col = )"
   ]
  },
  {
   "cell_type": "code",
   "execution_count": 3,
   "id": "71fe9420",
   "metadata": {},
   "outputs": [],
   "source": [
    "selected_assay_list += selected_assay_list2"
   ]
  },
  {
   "cell_type": "code",
   "execution_count": 4,
   "id": "306cd82d",
   "metadata": {},
   "outputs": [
    {
     "data": {
      "text/plain": [
       "32"
      ]
     },
     "execution_count": 4,
     "metadata": {},
     "output_type": "execute_result"
    }
   ],
   "source": [
    "len(selected_assay_list)"
   ]
  },
  {
   "cell_type": "code",
   "execution_count": 5,
   "id": "e0af93ba",
   "metadata": {},
   "outputs": [
    {
     "name": "stdout",
     "output_type": "stream",
     "text": [
      "31\r\n"
     ]
    }
   ],
   "source": [
    "!find ./result_sklearn_all_a_fp/metric/morgan/RF -type f | wc -l"
   ]
  },
  {
   "cell_type": "code",
   "execution_count": 6,
   "id": "c2929857",
   "metadata": {},
   "outputs": [],
   "source": [
    "selected_assay_list.remove('TOX21_NFkB_BLA_agonist_ratio') #active물질 개수가 3개뿐인 assay라 모델 "
   ]
  },
  {
   "cell_type": "code",
   "execution_count": 7,
   "id": "ccf30899",
   "metadata": {},
   "outputs": [
    {
     "data": {
      "text/plain": [
       "31"
      ]
     },
     "execution_count": 7,
     "metadata": {},
     "output_type": "execute_result"
    }
   ],
   "source": [
    "len(selected_assay_list)"
   ]
  },
  {
   "cell_type": "code",
   "execution_count": 8,
   "id": "1ad80f47",
   "metadata": {},
   "outputs": [],
   "source": [
    "fp_list = ['maccs', 'morgan', 'rdkit', 'layerd', 'pattern']\n",
    "al_list = ['MLP','GBT','RF','LR','KNN','NB']"
   ]
  },
  {
   "cell_type": "code",
   "execution_count": 9,
   "id": "f37559bc",
   "metadata": {},
   "outputs": [
    {
     "data": {
      "text/plain": [
       "'maccs'"
      ]
     },
     "execution_count": 9,
     "metadata": {},
     "output_type": "execute_result"
    }
   ],
   "source": [
    "import pandas as pd\n",
    "assay = selected_assay_list[0]\n",
    "fp_list[0]\n",
    "# df = pd.read_csv(\"\")"
   ]
  },
  {
   "cell_type": "code",
   "execution_count": 10,
   "id": "cfbd4cc7",
   "metadata": {},
   "outputs": [],
   "source": [
    "df_frame = pd.DataFrame(columns =['Assay','FingerPrints','Algorithms','AUC_ROC','AUC_PR','F1','B_A','Precision','Recall','Specificity','TP','TN','FP','FN']\n",
    "                       , index = [i for i in range(31*5*6)])"
   ]
  },
  {
   "cell_type": "code",
   "execution_count": 11,
   "id": "bee1ae46",
   "metadata": {},
   "outputs": [],
   "source": [
    "assay_fp_al_list = []\n",
    "index = 0 \n",
    "for assay in selected_assay_list : \n",
    "    for fp in fp_list : \n",
    "        for al in al_list : \n",
    "            value = pd.read_csv(\"./result_sklearn_all_a_fp/metric/\"+fp+\"/\"+al+\"/\"+assay+'_metric.csv'\n",
    "                   , index_col=0)\n",
    "            value = value.loc['Mean']\n",
    "            \n",
    "            value['Assay'] = assay\n",
    "            if fp =='maccs' : \n",
    "                value['FingerPrints'] = 'MACCS'\n",
    "            else :\n",
    "                value['FingerPrints'] = fp.capitalize() \n",
    "            value['Algorithms'] = al\n",
    "            value['AUC_ROC'] =  value['AUC']\n",
    "            value['TP'] = value['TP']*10\n",
    "            value['TN'] = value['TN']*10\n",
    "            value['FP'] = value['FP']*10\n",
    "            value['FN'] = value['FN']*10\n",
    "            \n",
    "            \n",
    "            df_frame.loc[index,:] = value\n",
    "            index = index + 1\n",
    "            "
   ]
  },
  {
   "cell_type": "code",
   "execution_count": 12,
   "id": "00531fee",
   "metadata": {},
   "outputs": [
    {
     "data": {
      "text/html": [
       "<div>\n",
       "<style scoped>\n",
       "    .dataframe tbody tr th:only-of-type {\n",
       "        vertical-align: middle;\n",
       "    }\n",
       "\n",
       "    .dataframe tbody tr th {\n",
       "        vertical-align: top;\n",
       "    }\n",
       "\n",
       "    .dataframe thead th {\n",
       "        text-align: right;\n",
       "    }\n",
       "</style>\n",
       "<table border=\"1\" class=\"dataframe\">\n",
       "  <thead>\n",
       "    <tr style=\"text-align: right;\">\n",
       "      <th></th>\n",
       "      <th>Assay</th>\n",
       "      <th>FingerPrints</th>\n",
       "      <th>Algorithms</th>\n",
       "      <th>AUC_ROC</th>\n",
       "      <th>AUC_PR</th>\n",
       "      <th>F1</th>\n",
       "      <th>B_A</th>\n",
       "      <th>Precision</th>\n",
       "      <th>Recall</th>\n",
       "      <th>Specificity</th>\n",
       "      <th>TP</th>\n",
       "      <th>TN</th>\n",
       "      <th>FP</th>\n",
       "      <th>FN</th>\n",
       "    </tr>\n",
       "  </thead>\n",
       "  <tbody>\n",
       "    <tr>\n",
       "      <th>0</th>\n",
       "      <td>TOX21_AhR_LUC_Agonist</td>\n",
       "      <td>MACCS</td>\n",
       "      <td>MLP</td>\n",
       "      <td>0.816</td>\n",
       "      <td>0.2122</td>\n",
       "      <td>0.2599</td>\n",
       "      <td>0.6946</td>\n",
       "      <td>0.1788</td>\n",
       "      <td>0.4822</td>\n",
       "      <td>NaN</td>\n",
       "      <td>156.0</td>\n",
       "      <td>7038.0</td>\n",
       "      <td>722.0</td>\n",
       "      <td>168.0</td>\n",
       "    </tr>\n",
       "    <tr>\n",
       "      <th>1</th>\n",
       "      <td>TOX21_AhR_LUC_Agonist</td>\n",
       "      <td>MACCS</td>\n",
       "      <td>GBT</td>\n",
       "      <td>0.8259</td>\n",
       "      <td>0.2082</td>\n",
       "      <td>0.284</td>\n",
       "      <td>0.7056</td>\n",
       "      <td>0.1999</td>\n",
       "      <td>0.4944</td>\n",
       "      <td>NaN</td>\n",
       "      <td>160.0</td>\n",
       "      <td>7115.0</td>\n",
       "      <td>645.0</td>\n",
       "      <td>164.0</td>\n",
       "    </tr>\n",
       "    <tr>\n",
       "      <th>2</th>\n",
       "      <td>TOX21_AhR_LUC_Agonist</td>\n",
       "      <td>MACCS</td>\n",
       "      <td>RF</td>\n",
       "      <td>0.8361</td>\n",
       "      <td>0.2575</td>\n",
       "      <td>0.3108</td>\n",
       "      <td>0.6684</td>\n",
       "      <td>0.2692</td>\n",
       "      <td>0.3803</td>\n",
       "      <td>NaN</td>\n",
       "      <td>123.0</td>\n",
       "      <td>7423.0</td>\n",
       "      <td>337.0</td>\n",
       "      <td>201.0</td>\n",
       "    </tr>\n",
       "    <tr>\n",
       "      <th>3</th>\n",
       "      <td>TOX21_AhR_LUC_Agonist</td>\n",
       "      <td>MACCS</td>\n",
       "      <td>LR</td>\n",
       "      <td>0.8178</td>\n",
       "      <td>0.1838</td>\n",
       "      <td>0.1968</td>\n",
       "      <td>0.7468</td>\n",
       "      <td>0.1138</td>\n",
       "      <td>0.7316</td>\n",
       "      <td>NaN</td>\n",
       "      <td>237.0</td>\n",
       "      <td>5914.0</td>\n",
       "      <td>1846.0</td>\n",
       "      <td>87.0</td>\n",
       "    </tr>\n",
       "    <tr>\n",
       "      <th>4</th>\n",
       "      <td>TOX21_AhR_LUC_Agonist</td>\n",
       "      <td>MACCS</td>\n",
       "      <td>KNN</td>\n",
       "      <td>0.7776</td>\n",
       "      <td>0.3601</td>\n",
       "      <td>0.2037</td>\n",
       "      <td>0.7428</td>\n",
       "      <td>0.1191</td>\n",
       "      <td>0.7041</td>\n",
       "      <td>NaN</td>\n",
       "      <td>228.0</td>\n",
       "      <td>6065.0</td>\n",
       "      <td>1695.0</td>\n",
       "      <td>96.0</td>\n",
       "    </tr>\n",
       "    <tr>\n",
       "      <th>...</th>\n",
       "      <td>...</td>\n",
       "      <td>...</td>\n",
       "      <td>...</td>\n",
       "      <td>...</td>\n",
       "      <td>...</td>\n",
       "      <td>...</td>\n",
       "      <td>...</td>\n",
       "      <td>...</td>\n",
       "      <td>...</td>\n",
       "      <td>...</td>\n",
       "      <td>...</td>\n",
       "      <td>...</td>\n",
       "      <td>...</td>\n",
       "      <td>...</td>\n",
       "    </tr>\n",
       "    <tr>\n",
       "      <th>925</th>\n",
       "      <td>NCCT_TPO_AUR_dn</td>\n",
       "      <td>Pattern</td>\n",
       "      <td>GBT</td>\n",
       "      <td>0.731</td>\n",
       "      <td>0.6292</td>\n",
       "      <td>0.6168</td>\n",
       "      <td>0.6717</td>\n",
       "      <td>0.6393</td>\n",
       "      <td>0.6037</td>\n",
       "      <td>NaN</td>\n",
       "      <td>149.0</td>\n",
       "      <td>238.0</td>\n",
       "      <td>84.0</td>\n",
       "      <td>98.0</td>\n",
       "    </tr>\n",
       "    <tr>\n",
       "      <th>926</th>\n",
       "      <td>NCCT_TPO_AUR_dn</td>\n",
       "      <td>Pattern</td>\n",
       "      <td>RF</td>\n",
       "      <td>0.7246</td>\n",
       "      <td>0.6439</td>\n",
       "      <td>0.6264</td>\n",
       "      <td>0.6728</td>\n",
       "      <td>0.6322</td>\n",
       "      <td>0.6278</td>\n",
       "      <td>NaN</td>\n",
       "      <td>155.0</td>\n",
       "      <td>231.0</td>\n",
       "      <td>91.0</td>\n",
       "      <td>92.0</td>\n",
       "    </tr>\n",
       "    <tr>\n",
       "      <th>927</th>\n",
       "      <td>NCCT_TPO_AUR_dn</td>\n",
       "      <td>Pattern</td>\n",
       "      <td>LR</td>\n",
       "      <td>0.7132</td>\n",
       "      <td>0.6362</td>\n",
       "      <td>0.6085</td>\n",
       "      <td>0.6653</td>\n",
       "      <td>0.6345</td>\n",
       "      <td>0.5912</td>\n",
       "      <td>NaN</td>\n",
       "      <td>146.0</td>\n",
       "      <td>238.0</td>\n",
       "      <td>84.0</td>\n",
       "      <td>101.0</td>\n",
       "    </tr>\n",
       "    <tr>\n",
       "      <th>928</th>\n",
       "      <td>NCCT_TPO_AUR_dn</td>\n",
       "      <td>Pattern</td>\n",
       "      <td>KNN</td>\n",
       "      <td>0.6723</td>\n",
       "      <td>0.6033</td>\n",
       "      <td>0.5868</td>\n",
       "      <td>0.6185</td>\n",
       "      <td>0.5598</td>\n",
       "      <td>0.6278</td>\n",
       "      <td>NaN</td>\n",
       "      <td>155.0</td>\n",
       "      <td>196.0</td>\n",
       "      <td>126.0</td>\n",
       "      <td>92.0</td>\n",
       "    </tr>\n",
       "    <tr>\n",
       "      <th>929</th>\n",
       "      <td>NCCT_TPO_AUR_dn</td>\n",
       "      <td>Pattern</td>\n",
       "      <td>NB</td>\n",
       "      <td>0.5787</td>\n",
       "      <td>0.6852</td>\n",
       "      <td>0.604</td>\n",
       "      <td>0.5781</td>\n",
       "      <td>0.4922</td>\n",
       "      <td>0.7895</td>\n",
       "      <td>NaN</td>\n",
       "      <td>195.0</td>\n",
       "      <td>118.0</td>\n",
       "      <td>204.0</td>\n",
       "      <td>52.0</td>\n",
       "    </tr>\n",
       "  </tbody>\n",
       "</table>\n",
       "<p>930 rows × 14 columns</p>\n",
       "</div>"
      ],
      "text/plain": [
       "                     Assay FingerPrints Algorithms AUC_ROC  AUC_PR      F1  \\\n",
       "0    TOX21_AhR_LUC_Agonist        MACCS        MLP   0.816  0.2122  0.2599   \n",
       "1    TOX21_AhR_LUC_Agonist        MACCS        GBT  0.8259  0.2082   0.284   \n",
       "2    TOX21_AhR_LUC_Agonist        MACCS         RF  0.8361  0.2575  0.3108   \n",
       "3    TOX21_AhR_LUC_Agonist        MACCS         LR  0.8178  0.1838  0.1968   \n",
       "4    TOX21_AhR_LUC_Agonist        MACCS        KNN  0.7776  0.3601  0.2037   \n",
       "..                     ...          ...        ...     ...     ...     ...   \n",
       "925        NCCT_TPO_AUR_dn      Pattern        GBT   0.731  0.6292  0.6168   \n",
       "926        NCCT_TPO_AUR_dn      Pattern         RF  0.7246  0.6439  0.6264   \n",
       "927        NCCT_TPO_AUR_dn      Pattern         LR  0.7132  0.6362  0.6085   \n",
       "928        NCCT_TPO_AUR_dn      Pattern        KNN  0.6723  0.6033  0.5868   \n",
       "929        NCCT_TPO_AUR_dn      Pattern         NB  0.5787  0.6852   0.604   \n",
       "\n",
       "        B_A Precision  Recall Specificity     TP      TN      FP     FN  \n",
       "0    0.6946    0.1788  0.4822         NaN  156.0  7038.0   722.0  168.0  \n",
       "1    0.7056    0.1999  0.4944         NaN  160.0  7115.0   645.0  164.0  \n",
       "2    0.6684    0.2692  0.3803         NaN  123.0  7423.0   337.0  201.0  \n",
       "3    0.7468    0.1138  0.7316         NaN  237.0  5914.0  1846.0   87.0  \n",
       "4    0.7428    0.1191  0.7041         NaN  228.0  6065.0  1695.0   96.0  \n",
       "..      ...       ...     ...         ...    ...     ...     ...    ...  \n",
       "925  0.6717    0.6393  0.6037         NaN  149.0   238.0    84.0   98.0  \n",
       "926  0.6728    0.6322  0.6278         NaN  155.0   231.0    91.0   92.0  \n",
       "927  0.6653    0.6345  0.5912         NaN  146.0   238.0    84.0  101.0  \n",
       "928  0.6185    0.5598  0.6278         NaN  155.0   196.0   126.0   92.0  \n",
       "929  0.5781    0.4922  0.7895         NaN  195.0   118.0   204.0   52.0  \n",
       "\n",
       "[930 rows x 14 columns]"
      ]
     },
     "execution_count": 12,
     "metadata": {},
     "output_type": "execute_result"
    }
   ],
   "source": [
    "df_frame"
   ]
  },
  {
   "cell_type": "code",
   "execution_count": 14,
   "id": "ccbe0596",
   "metadata": {},
   "outputs": [],
   "source": [
    "df_frame.to_csv('TableS4(Revision).csv')"
   ]
  },
  {
   "cell_type": "code",
   "execution_count": null,
   "id": "56666dc2",
   "metadata": {},
   "outputs": [],
   "source": []
  }
 ],
 "metadata": {
  "kernelspec": {
   "display_name": "Python 3 (ipykernel)",
   "language": "python",
   "name": "python3"
  },
  "language_info": {
   "codemirror_mode": {
    "name": "ipython",
    "version": 3
   },
   "file_extension": ".py",
   "mimetype": "text/x-python",
   "name": "python",
   "nbconvert_exporter": "python",
   "pygments_lexer": "ipython3",
   "version": "3.9.6"
  }
 },
 "nbformat": 4,
 "nbformat_minor": 5
}
