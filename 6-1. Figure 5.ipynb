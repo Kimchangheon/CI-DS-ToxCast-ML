{
 "cells": [
  {
   "cell_type": "code",
   "execution_count": 36,
   "id": "cf56f3a9",
   "metadata": {},
   "outputs": [],
   "source": [
    "import pandas as pd\n",
    "T7 = pd.read_csv(\"T7_within_base model.csv\")\n",
    "T7_tuned = pd.read_csv(\"T7_within_tuned model.csv\")"
   ]
  },
  {
   "cell_type": "code",
   "execution_count": 37,
   "id": "7e2c929c",
   "metadata": {},
   "outputs": [
    {
     "data": {
      "text/plain": [
       "valid_AUC       0.735001\n",
       "valid_AUC_PR     0.21912\n",
       "valid_Recall    0.217088\n",
       "valid_F1         0.24043\n",
       "Name: 0, dtype: object"
      ]
     },
     "execution_count": 37,
     "metadata": {},
     "output_type": "execute_result"
    }
   ],
   "source": [
    "T7.iloc[0,1:5]"
   ]
  },
  {
   "cell_type": "code",
   "execution_count": 38,
   "id": "ccfeb2c3",
   "metadata": {},
   "outputs": [
    {
     "data": {
      "text/html": [
       "<div>\n",
       "<style scoped>\n",
       "    .dataframe tbody tr th:only-of-type {\n",
       "        vertical-align: middle;\n",
       "    }\n",
       "\n",
       "    .dataframe tbody tr th {\n",
       "        vertical-align: top;\n",
       "    }\n",
       "\n",
       "    .dataframe thead th {\n",
       "        text-align: right;\n",
       "    }\n",
       "</style>\n",
       "<table border=\"1\" class=\"dataframe\">\n",
       "  <thead>\n",
       "    <tr style=\"text-align: right;\">\n",
       "      <th></th>\n",
       "      <th>base model</th>\n",
       "      <th>valid_AUC</th>\n",
       "      <th>valid_AUC_PR</th>\n",
       "      <th>valid_Recall</th>\n",
       "      <th>valid_F1</th>\n",
       "      <th>test_AUC</th>\n",
       "      <th>test_AUC_PR</th>\n",
       "      <th>test_Recall</th>\n",
       "      <th>test_F1</th>\n",
       "    </tr>\n",
       "  </thead>\n",
       "  <tbody>\n",
       "    <tr>\n",
       "      <th>0</th>\n",
       "      <td>CI</td>\n",
       "      <td>0.735001</td>\n",
       "      <td>0.219120</td>\n",
       "      <td>0.217088</td>\n",
       "      <td>0.240430</td>\n",
       "      <td>0.791637</td>\n",
       "      <td>0.262226</td>\n",
       "      <td>0.255197</td>\n",
       "      <td>0.294934</td>\n",
       "    </tr>\n",
       "    <tr>\n",
       "      <th>1</th>\n",
       "      <td>DS</td>\n",
       "      <td>0.759805</td>\n",
       "      <td>0.794054</td>\n",
       "      <td>0.776656</td>\n",
       "      <td>0.712681</td>\n",
       "      <td>0.678368</td>\n",
       "      <td>0.714242</td>\n",
       "      <td>0.543333</td>\n",
       "      <td>0.534302</td>\n",
       "    </tr>\n",
       "  </tbody>\n",
       "</table>\n",
       "</div>"
      ],
      "text/plain": [
       "  base model  valid_AUC  valid_AUC_PR  valid_Recall  valid_F1  test_AUC  \\\n",
       "0         CI   0.735001      0.219120      0.217088  0.240430  0.791637   \n",
       "1         DS   0.759805      0.794054      0.776656  0.712681  0.678368   \n",
       "\n",
       "   test_AUC_PR  test_Recall   test_F1  \n",
       "0     0.262226     0.255197  0.294934  \n",
       "1     0.714242     0.543333  0.534302  "
      ]
     },
     "execution_count": 38,
     "metadata": {},
     "output_type": "execute_result"
    }
   ],
   "source": [
    "T7"
   ]
  },
  {
   "cell_type": "code",
   "execution_count": 39,
   "id": "ebb89710",
   "metadata": {},
   "outputs": [
    {
     "data": {
      "text/html": [
       "<div>\n",
       "<style scoped>\n",
       "    .dataframe tbody tr th:only-of-type {\n",
       "        vertical-align: middle;\n",
       "    }\n",
       "\n",
       "    .dataframe tbody tr th {\n",
       "        vertical-align: top;\n",
       "    }\n",
       "\n",
       "    .dataframe thead th {\n",
       "        text-align: right;\n",
       "    }\n",
       "</style>\n",
       "<table border=\"1\" class=\"dataframe\">\n",
       "  <thead>\n",
       "    <tr style=\"text-align: right;\">\n",
       "      <th></th>\n",
       "      <th>tuned model</th>\n",
       "      <th>valid_AUC_tuned</th>\n",
       "      <th>valid_AUC_PR_tuned</th>\n",
       "      <th>valid_Recall_tuned</th>\n",
       "      <th>valid_F1_tuned</th>\n",
       "      <th>test_AUC_tuned</th>\n",
       "      <th>test_AUC_PR_tuned</th>\n",
       "      <th>test_Recall_tuned</th>\n",
       "      <th>test_F1_tuned</th>\n",
       "    </tr>\n",
       "  </thead>\n",
       "  <tbody>\n",
       "    <tr>\n",
       "      <th>0</th>\n",
       "      <td>CI</td>\n",
       "      <td>0.739098</td>\n",
       "      <td>0.215805</td>\n",
       "      <td>0.234568</td>\n",
       "      <td>0.253224</td>\n",
       "      <td>0.805827</td>\n",
       "      <td>0.272781</td>\n",
       "      <td>0.271735</td>\n",
       "      <td>0.312382</td>\n",
       "    </tr>\n",
       "    <tr>\n",
       "      <th>1</th>\n",
       "      <td>DS</td>\n",
       "      <td>0.761925</td>\n",
       "      <td>0.796248</td>\n",
       "      <td>0.778055</td>\n",
       "      <td>0.712700</td>\n",
       "      <td>0.701806</td>\n",
       "      <td>0.731528</td>\n",
       "      <td>0.626667</td>\n",
       "      <td>0.661286</td>\n",
       "    </tr>\n",
       "  </tbody>\n",
       "</table>\n",
       "</div>"
      ],
      "text/plain": [
       "  tuned model  valid_AUC_tuned  valid_AUC_PR_tuned  valid_Recall_tuned  \\\n",
       "0          CI         0.739098            0.215805            0.234568   \n",
       "1          DS         0.761925            0.796248            0.778055   \n",
       "\n",
       "   valid_F1_tuned  test_AUC_tuned  test_AUC_PR_tuned  test_Recall_tuned  \\\n",
       "0        0.253224        0.805827           0.272781           0.271735   \n",
       "1        0.712700        0.701806           0.731528           0.626667   \n",
       "\n",
       "   test_F1_tuned  \n",
       "0       0.312382  \n",
       "1       0.661286  "
      ]
     },
     "execution_count": 39,
     "metadata": {},
     "output_type": "execute_result"
    }
   ],
   "source": [
    "T7_tuned"
   ]
  },
  {
   "cell_type": "code",
   "execution_count": 40,
   "id": "fd149ea1",
   "metadata": {},
   "outputs": [
    {
     "data": {
      "image/png": "[encoded data removed]",
      "text/plain": [
       "<Figure size 504x360 with 1 Axes>"
      ]
     },
     "metadata": {
      "needs_background": "light"
     },
     "output_type": "display_data"
    }
   ],
   "source": [
    "import matplotlib.pyplot as plt\n",
    "import numpy as np\n",
    "\n",
    "plt.rc('font', size=15) \n",
    "plt.rc('font', weight = 'bold')\n",
    "\n",
    "def main():\n",
    "\t#### 1. bar plot으로 나타낼 데이터 입력\n",
    "\tmodels = ['Class imbalanced (CI)', 'Class imbalanced (CI) tuned','Data Scarcity (DS)', 'Data Scarcity (DS) tuned']\n",
    "\txticks = ['AUC_ROC','AUC_PR', 'Recall', 'F1']\n",
    "\tdata = {'Class imbalanced (CI)':T7.iloc[0,1:5],\n",
    "\t\t\t'Class imbalanced (CI) tuned':T7_tuned.iloc[0,1:5], \n",
    "           'Data Scarcity (DS)' : T7.iloc[1,1:5], \n",
    "            'Data Scarcity (DS) tuned' : T7_tuned.iloc[1,1:5]\n",
    "           }\n",
    "\t\n",
    "\t#### 2. matplotlib의 figure 및 axis 설정\n",
    "\tfig, ax = plt.subplots(1,1,figsize=(7,5)) # 1x1 figure matrix 생성, 가로(7인치)x세로(5인치) 크기지정\n",
    "\tcolors = ['#96C7C1','#89B5AF','#DED9C4', '#D0CAB2']\n",
    "\twidth = 0.15\n",
    "\t\n",
    "\t#### 3. bar 그리기\n",
    "\tfor i, model in enumerate(models):\n",
    "\t\tpos = compute_pos(xticks, width, i, models)\n",
    "\t\tbar = ax.bar(pos, data[model], width=width*0.95, label=model, color=colors[i])\n",
    "\t\tpresent_height(ax, bar) # bar높이 출력\n",
    "\t\n",
    "\t#### 4. x축 세부설정\n",
    "\tax.set_xticks(range(len(xticks)))\n",
    "\tax.set_xticklabels(xticks, fontsize=20)\t\n",
    "\t# ax.set_xlabel('Cancer type', fontsize=14)\n",
    "\t\n",
    "\t#### 5. y축 세부설정\n",
    "\tax.set_ylim([0.5,0.76])\n",
    "\tax.set_yticks([0.0, 0.40, 0.60, 0.65, 0.7,0.75, 0.8,1.0])\n",
    "\tax.yaxis.set_tick_params(labelsize=10)\n",
    "\t# ax.set_ylabel('Prediction Accuracy', fontsize=14)\n",
    "\t\n",
    "\t#### 6. 범례 나타내기\n",
    "\t#ax.legend(loc='upper right', shadow=True, ncol=1,fontsize=13)\n",
    "\t\n",
    "\t#### 7. 보조선(눈금선) 나타내기\n",
    "\tax.set_axisbelow(True)\n",
    "\tax.yaxis.grid(True, color='gray', linestyle='dashed', linewidth=0.5)\n",
    "\t\n",
    "\t#### 8. 그래프 저장하고 출력하기\n",
    "\tplt.tight_layout()\n",
    "\tplt.savefig('T4_validation.png', format='png', dpi=300)\n",
    "\tplt.show()\n",
    "\t\n",
    "def compute_pos(xticks, width, i, models) :\n",
    "  index = np.arange(len(xticks))\n",
    "  n = len(models)\n",
    "  correction = i-0.5*(n-1)\n",
    "  return index + width*correction\n",
    "\n",
    "def present_height(ax, bar):\n",
    "\tfor rect in bar:\n",
    "\t\theight = rect.get_height()\n",
    "\t\tposx = rect.get_x()+rect.get_width()*0.5\n",
    "\t\tposy = height*0.5\n",
    "\t\tax.text(posx, posy, '%.3f' % height, rotation=90, ha='center', va='bottom')\n",
    "\t\t\n",
    "if __name__=='__main__':\n",
    "\tmain()"
   ]
  },
  {
   "cell_type": "code",
   "execution_count": 41,
   "id": "014ce9ad",
   "metadata": {},
   "outputs": [
    {
     "data": {
      "image/png": "[encoded data removed]",
      "text/plain": [
       "<Figure size 504x360 with 1 Axes>"
      ]
     },
     "metadata": {
      "needs_background": "light"
     },
     "output_type": "display_data"
    }
   ],
   "source": [
    "import matplotlib.pyplot as plt\n",
    "import numpy as np\n",
    "\n",
    "plt.rc('font', size=15) \n",
    "plt.rc('font', weight = 'bold')\n",
    "\n",
    "def main():\n",
    "\t#### 1. bar plot으로 나타낼 데이터 입력\n",
    "\tmodels = ['Class imbalanced (CI)', 'Class imbalanced (CI) tuned','Data Scarcity (DS)', 'Data Scarcity (DS) tuned']\n",
    "\txticks = ['AUC_ROC','AUC_PR', 'Recall', 'F1']\n",
    "\tdata = {'Class imbalanced (CI)':T7.iloc[0,5:],\n",
    "\t\t\t'Class imbalanced (CI) tuned':T7_tuned.iloc[0,5:], \n",
    "           'Data Scarcity (DS)' : T7.iloc[1,5:], \n",
    "            'Data Scarcity (DS) tuned' : T7_tuned.iloc[1,5:]\n",
    "           }\n",
    "\t\n",
    "\t#### 2. matplotlib의 figure 및 axis 설정\n",
    "\tfig, ax = plt.subplots(1,1,figsize=(7,5)) # 1x1 figure matrix 생성, 가로(7인치)x세로(5인치) 크기지정\n",
    "\tcolors = ['#96C7C1','#89B5AF','#DED9C4', '#D0CAB2']\n",
    "\twidth = 0.15\n",
    "\t\n",
    "\t#### 3. bar 그리기\n",
    "\tfor i, model in enumerate(models):\n",
    "\t\tpos = compute_pos(xticks, width, i, models)\n",
    "\t\tbar = ax.bar(pos, data[model], width=width*0.95, label=model, color=colors[i])\n",
    "\t\tpresent_height(ax, bar) # bar높이 출력\n",
    "\t\n",
    "\t#### 4. x축 세부설정\n",
    "\tax.set_xticks(range(len(xticks)))\n",
    "\tax.set_xticklabels(xticks, fontsize=20)\t\n",
    "\t# ax.set_xlabel('Cancer type', fontsize=14)\n",
    "\t\n",
    "\t#### 5. y축 세부설정\n",
    "\tax.set_ylim([0.5,0.76])\n",
    "\tax.set_yticks([0.0, 0.40, 0.60, 0.65, 0.7,0.75, 0.8,1.0])\n",
    "\tax.yaxis.set_tick_params(labelsize=10)\n",
    "\t# ax.set_ylabel('Prediction Accuracy', fontsize=14)\n",
    "\t\n",
    "\t#### 6. 범례 나타내기\n",
    "\t#ax.legend(loc='upper right', shadow=True, ncol=1,fontsize=13)\n",
    "\t\n",
    "\t#### 7. 보조선(눈금선) 나타내기\n",
    "\tax.set_axisbelow(True)\n",
    "\tax.yaxis.grid(True, color='gray', linestyle='dashed', linewidth=0.5)\n",
    "\t\n",
    "\t#### 8. 그래프 저장하고 출력하기\n",
    "\tplt.tight_layout()\n",
    "\tplt.savefig('T4_test.png', format='png', dpi=300)\n",
    "\tplt.show()\n",
    "\t\n",
    "def compute_pos(xticks, width, i, models) :\n",
    "  index = np.arange(len(xticks))\n",
    "  n = len(models)\n",
    "  correction = i-0.5*(n-1)\n",
    "  return index + width*correction\n",
    "\n",
    "def present_height(ax, bar):\n",
    "\tfor rect in bar:\n",
    "\t\theight = rect.get_height()\n",
    "\t\tposx = rect.get_x()+rect.get_width()*0.5\n",
    "\t\tposy = height*0.5\n",
    "\t\tax.text(posx, posy, '%.3f' % height, rotation=90, ha='center', va='bottom')\n",
    "\t\t\n",
    "if __name__=='__main__':\n",
    "\tmain()"
   ]
  },
  {
   "cell_type": "code",
   "execution_count": 29,
   "id": "de7b2302-5af5-4cdb-911d-8f3eb0178bfb",
   "metadata": {},
   "outputs": [
    {
     "data": {
      "image/png": "[encoded data removed]",
      "text/plain": [
       "<Figure size 432x288 with 1 Axes>"
      ]
     },
     "metadata": {
      "needs_background": "light"
     },
     "output_type": "display_data"
    }
   ],
   "source": [
    "\n",
    "import matplotlib\n",
    "import matplotlib.pyplot as plt\n",
    "\n",
    "legend_properties = {'weight':'bold'}\n",
    "\n",
    "plt.plot([1,2,3], [4,5,6], label='Test')\n",
    "plt.legend(prop=legend_properties)\n",
    "\n",
    "plt.show()"
   ]
  },
  {
   "cell_type": "code",
   "execution_count": null,
   "id": "76be89e0-32dd-45aa-b90e-3e7100729f5a",
   "metadata": {},
   "outputs": [],
   "source": []
  },
  {
   "cell_type": "code",
   "execution_count": null,
   "id": "2c31d506",
   "metadata": {},
   "outputs": [],
   "source": []
  }
 ],
 "metadata": {
  "kernelspec": {
   "display_name": "Python 3 (ipykernel)",
   "language": "python",
   "name": "python3"
  },
  "language_info": {
   "codemirror_mode": {
    "name": "ipython",
    "version": 3
   },
   "file_extension": ".py",
   "mimetype": "text/x-python",
   "name": "python",
   "nbconvert_exporter": "python",
   "pygments_lexer": "ipython3",
   "version": "3.9.6"
  }
 },
 "nbformat": 4,
 "nbformat_minor": 5
}
